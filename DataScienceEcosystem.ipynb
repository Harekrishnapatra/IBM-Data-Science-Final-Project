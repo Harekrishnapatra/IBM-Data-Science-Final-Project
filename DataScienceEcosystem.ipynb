{
 "cells": [
  {
   "cell_type": "markdown",
   "id": "4203a2f1-145d-44b4-91f1-c482a2cf1094",
   "metadata": {},
   "source": [
    "**Excersize-2**"
   ]
  },
  {
   "cell_type": "markdown",
   "id": "ed3b39f9-790b-48b0-97d3-e8ca707e3c48",
   "metadata": {},
   "source": [
    "# Data Science Tools and Ecosystem\n"
   ]
  },
  {
   "cell_type": "markdown",
   "id": "004884c6-e030-46e9-9d95-636bd0ad8e1d",
   "metadata": {},
   "source": [
    "**Exercise 3 – Introduction**"
   ]
  },
  {
   "cell_type": "markdown",
   "id": "08d64f1f-9c89-47f2-afaf-4e189270bd29",
   "metadata": {},
   "source": [
    "In this notebook, Data Science tools, libraries, and languages will be summarized. It will also demonstrate some basic arithmetic operations using code cells.\r\n"
   ]
  },
  {
   "cell_type": "markdown",
   "id": "1b83e396-bf07-4748-937e-97df7e8755a9",
   "metadata": {},
   "source": [
    "**Exercise 4 – List of Data Science Languages**"
   ]
  },
  {
   "cell_type": "markdown",
   "id": "700bf01f-0758-4ab5-8d78-658b9d7069f7",
   "metadata": {},
   "source": [
    "Some of the popular languages that Data Scientists use are:\n",
    "\n",
    "1. Python  \n",
    "2. R  \n",
    "3. SQL  \n",
    "4. Julia  \n",
    "5. Scala"
   ]
  },
  {
   "cell_type": "markdown",
   "id": "b151e789-e850-412c-b77b-564a41697b88",
   "metadata": {},
   "source": [
    "**Exercise 5 – List of Data Science Libraries**"
   ]
  },
  {
   "cell_type": "markdown",
   "id": "852870d9-1250-4ab2-b677-ebbf86b5b202",
   "metadata": {},
   "source": [
    "Some of the commonly used libraries used by Data Scientists include:\r\n",
    "\r\n",
    "1. Pandas  \r\n",
    "2. NumPy  \r\n",
    "3. Matplotlib  \r\n",
    "4. Scikit-learn  \r\n",
    "5. TensorFlow\r\n"
   ]
  },
  {
   "cell_type": "markdown",
   "id": "76a05b6d-7061-4c08-a9f0-3fd1438968f7",
   "metadata": {},
   "source": [
    "**Exercise 6 – Table of Data Science Tools**"
   ]
  },
  {
   "cell_type": "markdown",
   "id": "fb1e0f45-e36f-4b75-a7bd-db43692f72f5",
   "metadata": {},
   "source": [
    "| Data Science Tools      |\r\n",
    "|-------------------------|\r\n",
    "| Jupyter Notebook        |\r\n",
    "| RStudio                 |\r\n",
    "| Apache Zeppelin         |\r\n"
   ]
  },
  {
   "cell_type": "markdown",
   "id": "9ed4ed2c-ac85-442c-9556-4851be7eece5",
   "metadata": {},
   "source": [
    "**Exercise 7 – Intro to Arithmetic Expressions**\n",
    "### Below are a few examples of evaluating arithmetic expressions in Python.\r\n"
   ]
  },
  {
   "cell_type": "markdown",
   "id": "3ec4c128-fce9-4946-bb16-6870f8fc559a",
   "metadata": {},
   "source": [
    "**Exercise 8 – Multiply and Add Numbers**"
   ]
  },
  {
   "cell_type": "code",
   "execution_count": 1,
   "id": "9f3172de-a715-4ca2-9b44-c06a2a221cdb",
   "metadata": {},
   "outputs": [
    {
     "data": {
      "text/plain": [
       "17"
      ]
     },
     "execution_count": 1,
     "metadata": {},
     "output_type": "execute_result"
    }
   ],
   "source": [
    "# This is a simple arithmetic expression to multiply then add integers\n",
    "(3 * 4) + 5"
   ]
  },
  {
   "cell_type": "markdown",
   "id": "d7b2275b-2bfb-419b-898d-00453f266f7b",
   "metadata": {},
   "source": [
    "**Exercise 9 – Convert Minutes to Hours**"
   ]
  },
  {
   "cell_type": "code",
   "execution_count": 2,
   "id": "4b4c758e-64f3-46ec-b7cc-c3abbd95fb08",
   "metadata": {},
   "outputs": [
    {
     "data": {
      "text/plain": [
       "3.3333333333333335"
      ]
     },
     "execution_count": 2,
     "metadata": {},
     "output_type": "execute_result"
    }
   ],
   "source": [
    "# This will convert 200 minutes to hours\n",
    "200 / 60"
   ]
  },
  {
   "cell_type": "markdown",
   "id": "ccbb4ff4-ea5b-4845-aa36-be5f9738c879",
   "metadata": {},
   "source": [
    "**Exercise 10 – Objectives List**"
   ]
  },
  {
   "cell_type": "markdown",
   "id": "0f4ca550-43f9-44c2-aca1-1a6057d23bee",
   "metadata": {},
   "source": [
    "**Objectives:**\r\n",
    "- List popular languages for Data Science\r\n",
    "- List commonly used libraries for Data Science\r\n",
    "- Create tables using Markdown\r\n",
    "- Perform basic arithmetic operations using Python\r\n"
   ]
  },
  {
   "cell_type": "markdown",
   "id": "81081070-f8e9-4bc9-a15f-43c3cd447303",
   "metadata": {},
   "source": [
    "**Exercise 11 – Author’s Name**"
   ]
  },
  {
   "cell_type": "markdown",
   "id": "b1074b56-ff37-4138-92b5-2e324c5c814f",
   "metadata": {},
   "source": [
    "**Author:** Harekrishna Patra"
   ]
  },
  {
   "cell_type": "code",
   "execution_count": null,
   "id": "9b8a4f2e-bbaa-4c86-91f5-c29ae2b74054",
   "metadata": {},
   "outputs": [],
   "source": []
  }
 ],
 "metadata": {
  "kernelspec": {
   "display_name": "Python 3 (ipykernel)",
   "language": "python",
   "name": "python3"
  },
  "language_info": {
   "codemirror_mode": {
    "name": "ipython",
    "version": 3
   },
   "file_extension": ".py",
   "mimetype": "text/x-python",
   "name": "python",
   "nbconvert_exporter": "python",
   "pygments_lexer": "ipython3",
   "version": "3.12.4"
  }
 },
 "nbformat": 4,
 "nbformat_minor": 5
}
